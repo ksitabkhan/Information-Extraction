{
 "cells": [
  {
   "cell_type": "markdown",
   "metadata": {
    "id": "sC-LZ20S_WUr"
   },
   "source": [
    "# Assignment 2: Information Extraction"
   ]
  },
  {
   "cell_type": "code",
   "execution_count": 1,
   "metadata": {
    "id": "9xqCFJBv_WUt"
   },
   "outputs": [],
   "source": [
    "import nltk\n",
    "import re\n",
    "\n",
    "#nltk.download('all')"
   ]
  },
  {
   "cell_type": "markdown",
   "metadata": {
    "id": "iq8sr9x17KhU"
   },
   "source": [
    "## Task 1: Named Entity Annotation (10 Marks)\n",
    "\n",
    "Using the IOB tagging scheme annotate all of the named entities (PERson, LOCation, ORGanisation, TIME) in the following sentence:\n",
    "\n",
    "*Wayne Rooney is a professional footballer from England who last played for Major League Soccer club D.C. United and will join Derby County in January 2020.*"
   ]
  },
  {
   "cell_type": "markdown",
   "metadata": {
    "id": "htlSW1ad81D-"
   },
   "source": [
    "Edit this cell and write your annotation below the line. (Note that you don't have to write code for this task, you have to annotate it manually)\n",
    "\n",
    "---\n",
    "Wayne \tB_PER\n",
    "Rooney \tI_PER\n",
    "is \tO\n",
    "a \tP\t\t\n",
    "professional B_ORG\n",
    "footballer \t I_ORG\n",
    "from \tO\t\n",
    "England B_LOc\n",
    "who \tO\n",
    "last \tO\n",
    "played \tO\n",
    "for \tO\t\n",
    "Major \tB_ORG\n",
    "League \tI_ORG\n",
    "Soccer \tI_ORG\n",
    "club \tI_ORG\n",
    "D.C.\tI_ORG\n",
    "United \tI_ORG\n",
    "and \tO\n",
    "will \tO\n",
    "join \tO\n",
    "Derby \tB_LOC\n",
    "County \tI_LOC\n",
    "in \t\tO\n",
    "January B_ORG\n",
    "2020\tI_ORG"
   ]
  },
  {
   "cell_type": "markdown",
   "metadata": {
    "id": "LZNmDWxj-V-J"
   },
   "source": [
    "\n",
    "---\n",
    "\n",
    "### For subsequent tasks in this assignment, you will work with the documents in `football_players.txt` to perform various information extraction tasks."
   ]
  },
  {
   "cell_type": "code",
   "execution_count": 2,
   "metadata": {
    "id": "V9YE4n6u7olU"
   },
   "outputs": [
    {
     "name": "stderr",
     "output_type": "stream",
     "text": [
      "  % Total    % Received % Xferd  Average Speed   Time    Time     Time  Current\n",
      "                                 Dload  Upload   Total   Spent    Left  Speed\n",
      "\n",
      "  0     0    0     0    0     0      0      0 --:--:-- --:--:-- --:--:--     0\n",
      " 58 24172   58 14088    0     0  15584      0  0:00:01 --:--:--  0:00:01 15584\n",
      "100 24172  100 24172    0     0  26709      0 --:--:-- --:--:-- --:--:-- 26709\n"
     ]
    }
   ],
   "source": [
    "# Download the text file (uncomment the line below in this cell, if not already downloaded from Blackboard)\n",
    "!curl \"https://ideone.com/plain/OvwDXZ\" > football_players.txt"
   ]
  },
  {
   "cell_type": "markdown",
   "metadata": {
    "id": "DpSaij2b73Vj"
   },
   "source": [
    " Read all the documents from `football_players.txt` into a list called `docs`."
   ]
  },
  {
   "cell_type": "code",
   "execution_count": 3,
   "metadata": {
    "id": "qteh89cs7q4x"
   },
   "outputs": [
    {
     "name": "stdout",
     "output_type": "stream",
     "text": [
      "Cristiano Ronaldo dos Santos Aveiro, ComM, GOIH (Portuguese pronunciation: [kɾiʃ'tjɐnu ʁuˈnaɫdu], born 5 February 1985) is a Portuguese professional footballer who plays for Spanish club Real Madrid and the Portugal national team. He is a forward and serves as captain for Portugal. In 2008, he won his first Ballon d'Or and FIFA World Player of the Year awards. He then won the FIFA Ballon d'Or in 2013 and 2014. In 2015, Ronaldo scored his 500th senior career goal for club and country. Often ranked as the best player in the world, Ronaldo was named the best Portuguese player of all time by the Portuguese Football Federation, during its 100th anniversary celebrations in 2015. He is the only player to win four European Golden Shoe awards. One of the most marketable athletes in sport, in 2016 Forbes named Ronaldo the world's best paid athlete. In June 2016, ESPN ranked him the world's most famous athlete. Ronaldo began his club career playing for Sporting CP, before signing with Manchester United at age 18 in 2003. After winning his first trophy, the FA Cup, during his first season in England, he helped United win three successive Premier League titles, a UEFA Champions League title, and a FIFA Club World Cup. By age 23, he had received Ballon d'Or and FIFA World Player of the Year nominations. He was the subject of the most expensive association football transfer when he moved from Manchester United to Real Madrid in 2009 in a transfer worth €94 million ($132 million). In Spain, he has since won one La Liga title, two Copas del Rey, two Champions League titles, and a Club World Cup. Ronaldo holds the record for most goals scored in a single UEFA Champions League season, having scored 17 goals in the 2013–14 season. In 2014, Ronaldo became the fastest player to score 200 goals in La Liga, which he accomplished in his 178th La Liga game. He is the only player in the history of football to score 50 or more goals in a season on six consecutive occasions. In 2015, Ronaldo became the all-time top goalscorer in the UEFA Champions League, and he also became Real Madrid's all-time leading goalscorer. He is the second highest goalscorer in La Liga history behind Lionel Messi, his perceived career rival. Ronaldo made his international debut for Portugal in August 2003, at the age of 18. He is Portugal's most capped player of all time with over 130 caps, and has participated in seven major tournaments: four UEFA European Championships (2004, 2008, 2012 and 2016) and three FIFA World Cups (2006, 2010 and 2014). He is the first Portuguese player to reach 50 international goals, making him Portugal's all-time top goalscorer. He scored his first international goal in Euro 2004 and helped Portugal reach the final. He took over captaincy in July 2008, and he led Portugal to the semi-finals at Euro 2012, finishing the competition as joint-top scorer. In November 2014, Ronaldo became the all-time top scorer in the UEFA European Championship (including qualifying) with 23 goals. At Euro 2016, he became the most capped player of all-time in the tournament, the first player to score at four consecutive European Championship finals, and also equalled Michel Platini's all-time record for most goals scored in the competition. Ronaldo lifted the trophy after Portugal defeated France in the final, and he received the Silver Boot as one of the second-highest goalscorers of the tournament.\n"
     ]
    }
   ],
   "source": [
    "docs = []\n",
    "# with open('football_players.txt', 'r',encoding=\"utf8\") as f:\n",
    "#   docs = f.readlines()\n",
    "docs= open('football_players.txt',encoding=\"utf8\").read().splitlines()\n",
    "\n",
    "print(docs[0])"
   ]
  },
  {
   "cell_type": "markdown",
   "metadata": {
    "id": "DCEJrJ-p_WU1"
   },
   "source": [
    "## Task 2 (10 Marks)\n",
    "Write a function that takes a document and returns a list of sentences with part-of-speech tags.\n",
    "\n",
    "Please keep in mind that the expected output is a list within a list as shown below.\n"
   ]
  },
  {
   "cell_type": "markdown",
   "metadata": {
    "id": "NO7Fyfq7DYxW"
   },
   "source": [
    "Hint: For this task you need to perform three steps:\n",
    "1. Sentence Segmentation\n",
    "1. Word Tokenization\n",
    "1. Part-of-Speech Tagging"
   ]
  },
  {
   "cell_type": "code",
   "execution_count": 4,
   "metadata": {
    "id": "U3MCJIcR_WU2"
   },
   "outputs": [],
   "source": [
    "def ie_preprocess(document):\n",
    "    \n",
    "    sentences = nltk.sent_tokenize(document)\n",
    "    tokenized_sentences = [nltk.word_tokenize(sent) for sent in sentences]\n",
    "    tagged_sentences = [nltk.pos_tag(sent) for sent in tokenized_sentences]\n",
    "    return tagged_sentences\n"
   ]
  },
  {
   "cell_type": "markdown",
   "metadata": {
    "id": "-E04CUNb_WU6"
   },
   "source": [
    "Run the cell below to verify your result for the second sentence in the first document.\n",
    "Expected output: \n",
    "`[('He', 'PRP'), ('is', 'VBZ'), ('a', 'DT'), ('forward', 'NN'), ('and', 'CC'), ('serves', 'NNS'), ('as', 'IN'), ('captain', 'NN'), ('for', 'IN'), ('Portugal', 'NNP'), ('.', '.')]`"
   ]
  },
  {
   "cell_type": "code",
   "execution_count": 5,
   "metadata": {
    "id": "R30taRgf_WU6"
   },
   "outputs": [
    {
     "data": {
      "text/plain": [
       "[('He', 'PRP'),\n",
       " ('is', 'VBZ'),\n",
       " ('a', 'DT'),\n",
       " ('forward', 'NN'),\n",
       " ('and', 'CC'),\n",
       " ('serves', 'NNS'),\n",
       " ('as', 'IN'),\n",
       " ('captain', 'NN'),\n",
       " ('for', 'IN'),\n",
       " ('Portugal', 'NNP'),\n",
       " ('.', '.')]"
      ]
     },
     "execution_count": 5,
     "metadata": {},
     "output_type": "execute_result"
    }
   ],
   "source": [
    "first_doc = docs[0]\n",
    "tagged_sentences = ie_preprocess(first_doc)\n",
    "tagged_sentences[1]"
   ]
  },
  {
   "cell_type": "markdown",
   "metadata": {
    "id": "tYTwrZId_WU_"
   },
   "source": [
    "## Task 3 (20 Marks)\n",
    "Write a function that takes a list of tokens with POS tags for a sentence and returns a list of named entities (NE). \n",
    "\n",
    "Hint: Use `binary = True` while calling NE chunk function"
   ]
  },
  {
   "cell_type": "code",
   "execution_count": 6,
   "metadata": {
    "id": "5fC0iqJJ_WU_"
   },
   "outputs": [],
   "source": [
    "def find_named_entities(sent):\n",
    "    named_entities = []\n",
    "    \n",
    "    tree = nltk.ne_chunk(sent, binary=True)\n",
    "    for subtree in tree.subtrees():\n",
    "        if subtree.label() == 'NE':\n",
    "            entity = \"\"\n",
    "            for leaf in subtree.leaves():\n",
    "                entity = entity + leaf[0] + \" \"\n",
    "            named_entities.append(entity.strip())\n",
    "    return named_entities"
   ]
  },
  {
   "cell_type": "markdown",
   "metadata": {
    "id": "Td5yJ8cgFScx"
   },
   "source": [
    "Run the cell below to verify your result for the first sentence in the first document.\n",
    "Expected output: `['Cristiano Ronaldo', 'Santos Aveiro', 'ComM', 'GOIH', 'Portuguese', 'Portuguese', 'Spanish', 'Real Madrid', 'Portugal']`"
   ]
  },
  {
   "cell_type": "code",
   "execution_count": 7,
   "metadata": {
    "id": "FijjdAPWFsp2"
   },
   "outputs": [
    {
     "data": {
      "text/plain": [
       "['Cristiano Ronaldo',\n",
       " 'Santos Aveiro',\n",
       " 'ComM',\n",
       " 'GOIH',\n",
       " 'Portuguese',\n",
       " 'Portuguese',\n",
       " 'Spanish',\n",
       " 'Real Madrid',\n",
       " 'Portugal']"
      ]
     },
     "execution_count": 7,
     "metadata": {},
     "output_type": "execute_result"
    }
   ],
   "source": [
    "tagged_sentences = ie_preprocess(docs[0])\n",
    "find_named_entities(tagged_sentences[0])"
   ]
  },
  {
   "cell_type": "markdown",
   "metadata": {
    "id": "XHMp7xtK_WVE"
   },
   "source": [
    "## Task 4 (5 Marks)\n",
    "\n",
    "Implement the `find_all_named_entities` function below to find **all** NEs in a given document.\n",
    "\n",
    "Hint: Use `find_named_entities` implemented above for this task."
   ]
  },
  {
   "cell_type": "code",
   "execution_count": 8,
   "metadata": {
    "id": "TwFlzQx4_WVF"
   },
   "outputs": [],
   "source": [
    "def find_all_named_entities(doc):\n",
    "    named_entities = []\n",
    "    tagged_sentences = ie_preprocess(doc)\n",
    "    for sent in tagged_sentences:\n",
    "        named_entities.append(find_named_entities(sent))\n",
    "        Flat_list = [item for sublist in named_entities for item in sublist]\n",
    "    return Flat_list   "
   ]
  },
  {
   "cell_type": "code",
   "execution_count": 9,
   "metadata": {},
   "outputs": [
    {
     "data": {
      "text/plain": [
       "['Cristiano Ronaldo',\n",
       " 'Santos Aveiro',\n",
       " 'ComM',\n",
       " 'GOIH',\n",
       " 'Portuguese',\n",
       " 'Portuguese',\n",
       " 'Spanish',\n",
       " 'Real Madrid',\n",
       " 'Portugal',\n",
       " 'Portugal',\n",
       " 'Ballon',\n",
       " 'FIFA',\n",
       " 'FIFA Ballon',\n",
       " 'Ronaldo',\n",
       " 'Ronaldo',\n",
       " 'Portuguese',\n",
       " 'Portuguese Football Federation',\n",
       " 'European Golden Shoe',\n",
       " 'ESPN',\n",
       " 'Ronaldo',\n",
       " 'Manchester United',\n",
       " 'England',\n",
       " 'United',\n",
       " 'UEFA Champions League',\n",
       " 'FIFA Club',\n",
       " 'Ballon',\n",
       " 'FIFA',\n",
       " 'Manchester United',\n",
       " 'Madrid',\n",
       " 'Spain',\n",
       " 'Ronaldo',\n",
       " 'UEFA Champions League',\n",
       " 'Ronaldo',\n",
       " 'La Liga',\n",
       " 'Ronaldo',\n",
       " 'UEFA Champions League',\n",
       " 'Real Madrid',\n",
       " 'La Liga',\n",
       " 'Lionel Messi',\n",
       " 'Ronaldo',\n",
       " 'Portugal',\n",
       " 'Portugal',\n",
       " 'European',\n",
       " 'FIFA World Cups',\n",
       " 'Portuguese',\n",
       " 'Portugal',\n",
       " 'Portugal',\n",
       " 'Portugal',\n",
       " 'Ronaldo',\n",
       " 'UEFA European',\n",
       " 'European',\n",
       " 'Michel Platini',\n",
       " 'Ronaldo',\n",
       " 'Portugal',\n",
       " 'France',\n",
       " 'Silver Boot']"
      ]
     },
     "execution_count": 9,
     "metadata": {},
     "output_type": "execute_result"
    }
   ],
   "source": [
    "find_all_named_entities(docs[0])"
   ]
  },
  {
   "cell_type": "markdown",
   "metadata": {
    "id": "bdM0-LZlJy4u"
   },
   "source": [
    "How many named entities did you find in the first document?"
   ]
  },
  {
   "cell_type": "code",
   "execution_count": 10,
   "metadata": {
    "id": "_ajmnnOqJ8V6"
   },
   "outputs": [
    {
     "data": {
      "text/plain": [
       "56"
      ]
     },
     "execution_count": 10,
     "metadata": {},
     "output_type": "execute_result"
    }
   ],
   "source": [
    "# your code goes here\n",
    "len(find_all_named_entities(docs[0]))"
   ]
  },
  {
   "cell_type": "markdown",
   "metadata": {
    "id": "x2AzD9MVNIx2"
   },
   "source": [
    "## Task 5 (5 Marks)\n",
    "\n",
    "Find named entities across **all** documents in `football_players.txt`, and save the result into a single flat list."
   ]
  },
  {
   "cell_type": "code",
   "execution_count": 11,
   "metadata": {
    "id": "YULMcK1-NSR9"
   },
   "outputs": [
    {
     "name": "stdout",
     "output_type": "stream",
     "text": [
      "['Cristiano Ronaldo', 'Santos Aveiro', 'ComM', 'GOIH', 'Portuguese', 'Portuguese', 'Spanish', 'Real Madrid', 'Portugal', 'Portugal', 'Ballon', 'FIFA', 'FIFA Ballon', 'Ronaldo', 'Ronaldo', 'Portuguese', 'Portuguese Football Federation', 'European Golden Shoe', 'ESPN', 'Ronaldo', 'Manchester United', 'England', 'United', 'UEFA Champions League', 'FIFA Club', 'Ballon', 'FIFA', 'Manchester United', 'Madrid', 'Spain', 'Ronaldo', 'UEFA Champions League', 'Ronaldo', 'La Liga', 'Ronaldo', 'UEFA Champions League', 'Real Madrid', 'La Liga', 'Lionel Messi', 'Ronaldo', 'Portugal', 'Portugal', 'European', 'FIFA World Cups', 'Portuguese', 'Portugal', 'Portugal', 'Portugal', 'Ronaldo', 'UEFA European', 'European', 'Michel Platini', 'Ronaldo', 'Portugal', 'France', 'Silver Boot', 'Lionel Andrés', 'Spanish', 'Spanish', 'Argentina', 'Messi', 'FIFA Ballons', 'European Golden Shoes', 'Messi', 'La Liga', 'La Liga', 'Copa América', 'Born', 'Argentina', 'Messi', 'Spain', 'Barcelona', 'Barcelona', 'Messi', 'Ballon', 'FIFA', 'Barcelona', 'Spanish', 'Messi', 'Ballon', 'FIFA', 'Messi', 'FIFA Ballons', 'European', 'Barcelona', 'Ballon', 'Cristiano Ronaldo', 'Messi', 'Champions League', 'Barcelona', 'European', 'Messi', 'FIFA World Youth Championship', 'Golden Ball', 'Golden Shoe', 'Diego Maradona', 'Messi', 'FIFA', 'Argentina', 'Golden Ball', 'Neymar', 'Silva Santos Júnior', 'Portuguese', 'Neymar', 'Neymar Jr.', 'Brazilian', 'Spanish', 'Brazil', 'Neymar', 'Santos', 'Campeonato Paulista', 'Brasil', 'Santos', 'Neymar', 'South American Footballer', 'Europe', 'Barcelona', 'Barça', 'Lionel Messi', 'Luis Suárez', 'UEFA Champions League', 'FIFA Ballon', 'Brazil', 'Neymar', 'Brazil', 'South American Youth Championship', 'FIFA Confederations Cup', 'Golden Ball', 'FIFA', 'Brazil', 'Neymar', 'Brazil', 'Santos', 'SportsPro', 'ESPN', 'Ronaldo', 'Ronaldinho', 'Brazilian', 'Portuguese', 'Ronaldinho Gaúcho', 'Brazilian', 'Spanish', 'FIFA', 'Ronaldinho', 'Brazilian', 'Ronaldo', 'Brazil', 'Ronaldo', 'Europe', 'Ronaldinho', 'Ronaldinho', 'Brazil', 'FIFA World', 'Korea', 'Japan', 'Ronaldo', 'Rivaldo', 'FIFA', 'Ronaldinho', 'Brazilian', 'European', 'Paris', 'Barcelona', 'Milan', 'Brazil', 'Flamengo', 'Atlético Mineiro', 'Mexico', 'Querétaro', 'Barcelona', 'UEFA Champions League', 'FIFA', 'Ballon', 'Ronaldinho', 'Pelé', 'FIFPro World', 'Wayne Mark Rooney', 'England', 'Rooney', 'Everton', 'Merseyside', 'Manchester United', 'Rooney', 'United', 'UEFA Champions League', 'FIFA Club', 'Football League', 'Rooney', 'Rooney', 'England', 'England', 'UEFA Euro', 'European Championship', 'Rooney', 'England Player', 'Rooney', 'England', 'David Beckham', 'Rooney', 'England', 'Rooney', 'PFA Players', 'FWA Footballer', 'Steven Gerrard', 'FIFA Ballon', 'FIFPro', 'Rooney', 'Season', 'BBC', 'Zlatan Ibrahimović', 'Swedish', 'Bosnian', 'Swedish', 'Sweden', 'Ibrahimović', 'Malmö FF', 'Ajax', 'Juventus', 'Serie', 'David Trezeguet', 'UEFA Team', 'Ibrahimović', 'Barcelona', 'Serie', 'Milan', 'Paris', 'PSG', 'Ibrahimović', 'France', 'PSG', 'PSG', 'Ibrahimović', 'Swedish', 'Sweden', 'FIFA World Cups', 'Guldbollen', 'Golden Ball', 'Swedish', 'Marco', 'Basten', 'Ibrahimović', 'Sweden', 'England', 'FIFA Puskás Award', 'Goal', 'Ibrahimović', 'Guardian', 'Lionel Messi', 'Cristiano Ronaldo', 'Swedish', 'Dagens Nyheter', 'Swedish', 'Björn Borg', 'David Robert Joseph Beckham', 'OBE', 'Preston North End', 'Real Madrid', 'Milan', 'LA Galaxy', 'Paris', 'England', 'Wayne Rooney', 'England', 'Spain', 'United States', 'France', 'Beckham', 'FIFA', 'Beckham', 'Manchester United', 'United', 'UEFA Champions League', 'Real Madrid', 'Beckham', 'Major League Soccer', 'Galaxy', 'Italy', 'Milan', 'British', 'Beckham', 'England', 'FIFA', 'European', 'Beckham', 'Victoria Beckham', 'UNICEF UK', 'David Beckham', 'UNICEF Fund', 'MLS', 'Beckham', 'Miami', 'Mesut Özil', 'German', 'Turkish', 'German', 'English', 'German', 'Özil', 'German', 'FIFA', 'Golden Ball Award', 'Özil', 'Werder Bremen', 'Real Madrid', 'FIFA', 'Germany', 'Arsenal', 'German', 'Özil', 'José Mourinho', 'Real Madrid', 'Zinedine Zidane', 'Özil', 'European', 'La Liga', 'Özil', 'FIFA', 'UEFA Euro', 'Gareth Frank Bale', 'Spanish', 'Real Madrid', 'Wales', 'Bale', 'Southampton', 'Bale', 'Tottenham Hotspur', 'Tottenham', 'Harry Redknapp', 'Bale', 'PFA Players', 'UEFA Team', 'PFA Young Player', 'FWA Footballer', 'Bale', 'Madrid', 'Cristiano Ronaldo', 'Bale', 'Real Madrid', 'UEFA Champions League', 'UEFA Super Cup', 'FIFA Club', 'UEFA Squad', 'Season', 'ESPN', 'Bale', 'Bale', 'Wales', 'Ian Rush', 'Wales', 'UEFA Euro', 'Andrés Iniesta Luján', 'Spanish', 'Spanish', 'FC Barcelona', 'Spain', 'Barcelona', 'Iniesta', 'Barcelona', 'Iniesta', 'Barcelona', 'Spanish', 'Iniesta', 'Spain', 'Spain', 'Iniesta', 'Spanish', 'Netherlands', 'Match', 'Iniesta', 'Spain', 'Italy', 'Iniesta', 'UEFA Team', 'FIFA World XI', 'Iniesta', 'UEFA Best Player', 'Europe', 'IFFHS World', 'Lionel Messi', 'FIFA Ballon']\n"
     ]
    }
   ],
   "source": [
    "all_named_entities = []\n",
    "for doc in docs:\n",
    "    all_named_entities.append(find_all_named_entities(doc))\n",
    "print([item for sublist in all_named_entities for item in sublist])\n",
    "# your code goes here"
   ]
  },
  {
   "cell_type": "markdown",
   "metadata": {
    "id": "QaM9Cs9zNGM2"
   },
   "source": [
    "How many named entities did you find across all documents?"
   ]
  },
  {
   "cell_type": "code",
   "execution_count": 12,
   "metadata": {
    "id": "jCNIrC_SNpHQ"
   },
   "outputs": [
    {
     "data": {
      "text/plain": [
       "380"
      ]
     },
     "execution_count": 12,
     "metadata": {},
     "output_type": "execute_result"
    }
   ],
   "source": [
    "# your code goes here\n",
    "\n",
    "Named_entities_list=[item for sublist in all_named_entities for item in sublist]\n",
    "len(Named_entities_list)"
   ]
  },
  {
   "cell_type": "markdown",
   "metadata": {
    "id": "l7-ma9lJ_WVJ"
   },
   "source": [
    "## Task 6 (40 Marks)\n",
    "\n",
    "Write functions to extract the name of the player, country of origin and date of birth as well as the following relations: team(s) of the player and position(s) of the player.\n",
    "\n",
    "Hint: Use the `re.compile()` function to create the extraction patterns.\n",
    "\n",
    "Reference: https://docs.python.org/3/howto/regex.html"
   ]
  },
  {
   "cell_type": "code",
   "execution_count": 13,
   "metadata": {
    "id": "tbaFyiah_WVK"
   },
   "outputs": [],
   "source": [
    "def name_of_the_player(doc):\n",
    "    doc=doc.lower()\n",
    "    player_name = re.compile(r'[\\w* ]*')\n",
    "    name= player_name.match(doc).group()\n",
    "    return name\n",
    "\n",
    "def country_of_origin(doc):\n",
    "    doc=doc.lower()\n",
    "    name = name_of_the_player(doc)\n",
    "    Country_name = re.compile('(.*)\\s(?=national)')\n",
    "    country = Country_name.match(doc).group().split(\" \")[-2]\n",
    "    Final_ans = name+\" is from \"+country\n",
    "    return Final_ans\n",
    "\n",
    "def date_of_birth(doc):\n",
    "    doc=doc.lower()\n",
    "    Name = name_of_the_player(doc)\n",
    "    BORN_IN = re.compile(r'born [0-9]+\\s[a-zA-Z]+\\s[[19][0-9][0-9][0-9]|[20][0][0-2][0-9]]')\n",
    "    date=re.findall(BORN_IN, doc)\n",
    "    final_ans = Name+\" was born on \"+date[0][5:]\n",
    "    return final_ans\n",
    "\n",
    "def team_of_the_player(doc):\n",
    "    doc=doc.lower()\n",
    "    Name = name_of_the_player(doc)\n",
    "    Team_name = re.compile(r'(plays|played)(.*?)\\bfor\\b(.*?)\\.')\n",
    "    \n",
    "    Team =  Team_name.findall(doc)\n",
    "    FINAL = str(Team[0][2:])\n",
    "    FINAL1 = FINAL.split(\" for \")[0]\n",
    "    \n",
    "    FINAL1 = FINAL1.strip(\")\").strip(\"(\").strip(\"'\")\n",
    "    FINAL2 = re.sub(r'[?|$|.|!]',r'',FINAL1)\n",
    "    pattern = ('[,]| and ')\n",
    "    ABC = re.split(pattern, FINAL2)\n",
    "#     Name_team = Name+\" \"+Team[0]\n",
    "    \n",
    "    print( Name,\"\\n\\n\", ABC)\n",
    "def OLD_team_of_the_player(doc):\n",
    "    doc=doc.lower()\n",
    "    Name = name_of_the_player(doc)\n",
    "    Team_name = re.compile(r'the \\w+\\snational team')\n",
    "    Team =  Team_name.findall(doc)\n",
    "    Name_team = Name+\" played for \"+Team[0]\n",
    "    return Name_team\n",
    "\n",
    "def position_of_the_player(doc):\n",
    "    name = name_of_the_player(doc)\n",
    "    doc= doc.lower()\n",
    "    position = re.compile(r'forward|captain|striker|[right|left]* winger|central midfielder|attacking midfielder|goalkeeper')\n",
    "    get_position= position.findall(doc)\n",
    "    final_pos=set(get_position)\n",
    "    print(name ,final_pos)"
   ]
  },
  {
   "cell_type": "code",
   "execution_count": 14,
   "metadata": {},
   "outputs": [
    {
     "name": "stdout",
     "output_type": "stream",
     "text": [
      "---------------\n",
      "cristiano ronaldo dos santos aveiro \n",
      "\n",
      " [' Spanish club Real Madrid', \"the Portugal national team'\", '']\n",
      "---------------\n",
      "lionel andrés  \n",
      "\n",
      " [' Spanish club FC Barcelona', \"the Argentina national team'\", '']\n",
      "---------------\n",
      "neymar da silva santos júnior  \n",
      "\n",
      " [' Spanish club FC Barcelona', \"the Brazil national team'\", '']\n",
      "---------------\n",
      "ronaldo de assis moreira  \n",
      "\n",
      " [\" the Brazil national team'\", '']\n",
      "---------------\n",
      "wayne mark rooney  \n",
      "\n",
      " ['', 'captains both Manchester United', \"the England national team'\", '']\n",
      "---------------\n",
      "zlatan ibrahimović  \n",
      "\n",
      " [\" Manchester United'\", '']\n",
      "---------------\n",
      "david robert joseph beckham \n",
      "\n",
      " [' Manchester United', ' Preston North End', ' Real Madrid', ' Milan', ' LA Galaxy', ' Paris Saint-Germain', '', 'the England national team']\n",
      "---------------\n",
      "mesut özil  \n",
      "\n",
      " [' English club Arsenal', \"the German national team'\", '']\n",
      "---------------\n",
      "gareth frank bale  \n",
      "\n",
      " [' Spanish club Real Madrid', \"the Wales national team'\", '']\n",
      "---------------\n",
      "andrés iniesta luján  \n",
      "\n",
      " [' FC Barcelona', \"the Spain national team'\", '']\n"
     ]
    }
   ],
   "source": [
    "def team_of_the_player(doc):\n",
    "    Name = name_of_the_player(doc)\n",
    "    Team_name = re.compile(r'(plays|played)(.*?)\\bfor\\b(.*?)\\.')\n",
    "    \n",
    "    Team =  Team_name.findall(doc)\n",
    "    FINAL = str(Team[0][2:])\n",
    "    FINAL1 = FINAL.split(\" for \")[0]\n",
    "    \n",
    "    FINAL1 = FINAL1.strip(\")\").strip(\"(\").strip(\"'\")\n",
    "    FINAL2 = re.sub(r'[?|$|.|!]',r'',FINAL1)\n",
    "    pattern = ('[,]| and ')\n",
    "    ABC = re.split(pattern, FINAL2)\n",
    "#   Name_team = Name+\" \"+Team[0]\n",
    "    \n",
    "    print( Name,\"\\n\\n\", ABC)\n",
    "\n",
    "    \n",
    "for doc in docs:\n",
    "    print(\"---------------\")\n",
    "    team_of_the_player(doc)"
   ]
  },
  {
   "cell_type": "code",
   "execution_count": 15,
   "metadata": {},
   "outputs": [
    {
     "name": "stdout",
     "output_type": "stream",
     "text": [
      "cristiano ronaldo dos santos aveiro\n",
      "cristiano ronaldo dos santos aveiro is from portugal\n",
      "neymar da silva santos júnior  was born on 5 february 1992\n",
      "neymar da silva santos júnior  \n",
      "\n",
      " [' Spanish club FC Barcelona', \"the Brazil national team'\", '']\n",
      "None\n",
      "neymar da silva santos júnior  played for the brazil national team\n",
      "andrés iniesta luján  {'central midfielder', 'captain'}\n"
     ]
    },
    {
     "name": "stderr",
     "output_type": "stream",
     "text": [
      "<ipython-input-13-b0751f94f2f0>:18: FutureWarning: Possible nested set at position 25\n",
      "  BORN_IN = re.compile(r'born [0-9]+\\s[a-zA-Z]+\\s[[19][0-9][0-9][0-9]|[20][0][0-2][0-9]]')\n"
     ]
    }
   ],
   "source": [
    "#test Cell\n",
    "\n",
    "print (name_of_the_player(docs[0]))\n",
    "print (country_of_origin(docs[0]))\n",
    "print (date_of_birth(docs[2]))\n",
    "print(team_of_the_player(docs[2]))\n",
    "print(OLD_team_of_the_player(docs[2]))\n",
    "position_of_the_player(doc)"
   ]
  },
  {
   "cell_type": "markdown",
   "metadata": {
    "id": "K-CNrMM5_WVO"
   },
   "source": [
    "Execute the cell below to verify the `date_of_birth` function for the third player. Expected output `5 February 1992`\n"
   ]
  },
  {
   "cell_type": "code",
   "execution_count": 16,
   "metadata": {
    "id": "jpeKE1u9_WVP"
   },
   "outputs": [
    {
     "data": {
      "text/plain": [
       "'neymar da silva santos júnior  was born on 5 february 1992'"
      ]
     },
     "execution_count": 16,
     "metadata": {},
     "output_type": "execute_result"
    }
   ],
   "source": [
    "date_of_birth(docs[2])"
   ]
  },
  {
   "cell_type": "markdown",
   "metadata": {
    "id": "i3VtWxBr_WVZ"
   },
   "source": [
    "## Task 6 (10 Marks)\n",
    "Identify one other relation (besides team and player) and write a function to extract it."
   ]
  },
  {
   "cell_type": "code",
   "execution_count": 17,
   "metadata": {},
   "outputs": [
    {
     "name": "stdout",
     "output_type": "stream",
     "text": [
      "Debut age for CRISTIANO RONALDO DOS SANTOS AVEIRO is  [' 18.']\n",
      "\n",
      "-----------\n",
      "\n",
      "Debut age for LIONEL ANDRÉS  is  [' 17 ']\n",
      "\n",
      "-----------\n",
      "\n",
      "Debut age for NEYMAR DA SILVA SANTOS JÚNIOR  is  [' 17.']\n",
      "\n",
      "-----------\n",
      "\n",
      "Debut age for RONALDO DE ASSIS MOREIRA  is not mentioned\n",
      "\n",
      "-----------\n",
      "\n",
      "Debut age for WAYNE MARK ROONEY  is  [' 16.']\n",
      "\n",
      "-----------\n",
      "\n",
      "Debut age for ZLATAN IBRAHIMOVIĆ  is not mentioned\n",
      "\n",
      "-----------\n",
      "\n",
      "Debut age for DAVID ROBERT JOSEPH BECKHAM is  [' 17.']\n",
      "\n",
      "-----------\n",
      "\n",
      "Debut age for MESUT ÖZIL  is not mentioned\n",
      "\n",
      "-----------\n",
      "\n",
      "Debut age for GARETH FRANK BALE  is not mentioned\n",
      "\n",
      "-----------\n",
      "\n",
      "Debut age for ANDRÉS INIESTA LUJÁN  is  [' 18 ']\n",
      "\n",
      "-----------\n",
      "\n"
     ]
    }
   ],
   "source": [
    "def debute_age(doc):\n",
    "    sentences = nltk.sent_tokenize(doc)\n",
    "    doc = doc.lower()\n",
    "    name = name_of_the_player(doc)\n",
    "    result1=[]\n",
    "    #pattern= re.compile(r' [0-2][0-9]')\n",
    "    pattern = re.compile(r' [0-2][0-9][\\.|\\s]')\n",
    "    #print(len(sentences))\n",
    "    for sent in sentences:\n",
    "        if re.search(r'debut',sent): \n",
    "            pat = pattern.findall(sent)\n",
    "            if pat:\n",
    "                result1.append(pat)\n",
    "    if len(result1)!=0:\n",
    "        print(\"Debut age for\",name.upper(), \"is \",result1[0])\n",
    "    else:\n",
    "        print(\"Debut age for\",name.upper(),\"is not mentioned\")\n",
    "           \n",
    "\n",
    "for doc in docs:\n",
    "    debute_age(doc)\n",
    "    print(\"\\n-----------\\n\")"
   ]
  },
  {
   "cell_type": "code",
   "execution_count": null,
   "metadata": {},
   "outputs": [],
   "source": []
  }
 ],
 "metadata": {
  "colab": {
   "collapsed_sections": [],
   "name": "Assignment 2.ipynb",
   "provenance": [
    {
     "file_id": "1EXXdimBbQY8nnqIs5hBXdG68r2hsk7HS",
     "timestamp": 1604940588321
    }
   ]
  },
  "kernelspec": {
   "display_name": "Python 3",
   "language": "python",
   "name": "python3"
  },
  "language_info": {
   "codemirror_mode": {
    "name": "ipython",
    "version": 3
   },
   "file_extension": ".py",
   "mimetype": "text/x-python",
   "name": "python",
   "nbconvert_exporter": "python",
   "pygments_lexer": "ipython3",
   "version": "3.8.3"
  }
 },
 "nbformat": 4,
 "nbformat_minor": 1
}
